{
 "cells": [
  {
   "cell_type": "code",
   "execution_count": 8,
   "metadata": {},
   "outputs": [],
   "source": [
    "import mlflow\n",
    "import mlflow.sklearn\n",
    "import os\n",
    "import platform\n",
    "import psutil\n",
    "import time\n",
    "import numpy as np\n",
    "from sklearn.model_selection import train_test_split\n",
    "from sklearn.datasets import load_iris\n",
    "from sklearn.ensemble import RandomForestClassifier\n",
    "from sklearn.metrics import accuracy_score,precision_score, recall_score,f1_score\n",
    "from mlflow.tracking import MlflowClient\n"
   ]
  },
  {
   "cell_type": "code",
   "execution_count": 9,
   "metadata": {},
   "outputs": [],
   "source": [
    "# Global Parameters\n",
    "def get_config():\n",
    "    return {\n",
    "        \"learning_rate\": 0.01,\n",
    "        \"batch_size\":32,\n",
    "        \"n_estimators\": 10,\n",
    "        \"max_depth\":3\n",
    "    }"
   ]
  },
  {
   "cell_type": "code",
   "execution_count": 10,
   "metadata": {},
   "outputs": [],
   "source": [
    "#Define training function\n",
    "def train_model(config):\n",
    "    data = load_iris()\n",
    "    X_train, X_test, y_train, y_test = train_test_split(data.data, data.target, test_size=0.2, random_state=42)\n",
    "    \n",
    "    model = RandomForestClassifier(n_estimators=config[\"n_estimators\"], max_depth=config[\"max_depth\"], random_state=42)\n",
    "    model.fit(X_train, y_train)\n",
    "    \n",
    "    predictions = model.predict(X_test)\n",
    "    accuracy = accuracy_score(y_test, predictions)\n",
    "    precision = precision_score(y_test, predictions, average='macro') # Weighted for multi-class  \n",
    "    recall = recall_score(y_test, predictions, average='weighted')  # Weighted for multi-class\n",
    "    f1= f1_score(y_test, predictions, average='weighted')\n",
    "    \n",
    "    return model, accuracy, predictions, y_test, precision, recall, f1"
   ]
  },
  {
   "cell_type": "code",
   "execution_count": 11,
   "metadata": {},
   "outputs": [],
   "source": [
    "\n",
    "# Define logging function\n",
    "def log_model_mlflow(config, model, accuracy, predictions, y_test, precision, recall, f1):\n",
    "    mlflow.set_tracking_uri(uri='http://127.0.0.1:5000/')\n",
    "    mlflow.set_experiment('iris Classifier Insights')\n",
    "    \n",
    "    model_name = \"random forest, iris\"\n",
    "\n",
    "    with mlflow.start_run():\n",
    "        # Log parameters\n",
    "        for param_name, param_value in config.items():\n",
    "            mlflow.log_param(param_name, param_value)\n",
    "\n",
    "        # Log metrics\n",
    "        mlflow.log_metric('accuracy', accuracy)\n",
    "        mlflow.log_metric('precision', precision)\n",
    "        mlflow.log_metric('recall', recall)\n",
    "        mlflow.log_metric('f1', f1)\n",
    "        loss = np.mean(np.square(y_test - predictions))  # Mean Squared Error\n",
    "        mlflow.log_metric('loss', loss)\n",
    "\n",
    "        # Log system information\n",
    "        mlflow.log_param(\"system_os\", platform.system())\n",
    "        mlflow.log_param(\"system_processor\", platform.processor())\n",
    "        mlflow.log_param(\"system_ram\", f\"{psutil.virtual_memory().total / 1e9:.2f} GB\")\n",
    "        mlflow.log_param(\"cpu_count\", os.cpu_count())\n",
    "        mlflow.log_param(\"python_version\", platform.python_version())\n",
    "\n",
    "        # Log detailed hardware information\n",
    "        cpu_freq = psutil.cpu_freq().max if psutil.cpu_freq() else \"Unknown\"\n",
    "        disk_usage = psutil.disk_usage('/').total / 1e9  # Disk size in GB\n",
    "        mlflow.log_param(\"cpu_max_frequency_MHz\", cpu_freq)\n",
    "        mlflow.log_param(\"disk_total_GB\", f\"{disk_usage:.2f}\")\n",
    "\n",
    "        # Measure resource usage\n",
    "        start_time = time.time()\n",
    "        initial_memory = psutil.Process(os.getpid()).memory_info().rss / 1e6  # Memory in MB\n",
    "\n",
    "        runtime = time.time() - start_time\n",
    "        final_memory = psutil.Process(os.getpid()).memory_info().rss / 1e6  # Memory in MB\n",
    "        memory_used = final_memory - initial_memory\n",
    "\n",
    "        mlflow.log_metric(\"runtime\", runtime)\n",
    "        mlflow.log_metric(\"memory_used_MB\", memory_used)\n",
    "\n",
    "        # Log model artifact\n",
    "        mlflow.sklearn.log_model(model, \"random forest, iris\")\n",
    "      \n",
    "        \n",
    "        # Task A: Register a model ----> \"random forest, iris\"\n",
    "        model_uri = f\"runs:/{mlflow.active_run().info.run_id}/model\"\n",
    "        print(\"model_uri:\", model_uri)\n",
    "        \n",
    "        try:\n",
    "            registered_model = mlflow.register_model(model_uri=model_uri, name=model_name)\n",
    "            print(f\"Model '{model_name}' registered successfully as version {registered_model.version}.\")\n",
    "        except Exception as e:\n",
    "            print(f\"Error during model registration: {e}\")\n",
    "            return\n",
    "        \n",
    "        # Task B: Transition model stages \n",
    "        client = MlflowClient()\n",
    "        try:\n",
    "            # Transition to \"Staging\"\n",
    "            client.transition_model_version_stage(\n",
    "                name=model_name,\n",
    "                version=registered_model.version,\n",
    "                stage=\"Staging\"\n",
    "            )\n",
    "            print(f\"Model '{model_name}', version {registered_model.version} transitioned to 'Staging' stage.\")\n",
    "            \n",
    "            # Check predefined criteria (e.g., accuracy > threshold)\n",
    "            ACCURACY_THRESHOLD = 0.90\n",
    "            if accuracy > ACCURACY_THRESHOLD:\n",
    "            # Register new version for Production (version 2)\n",
    "                model_uri = f\"runs:/{mlflow.active_run().info.run_id}/model\"\n",
    "                registered_model_production = mlflow.register_model(model_uri=model_uri, name=model_name)\n",
    "                print(f\"New model version {registered_model_production.version} registered for 'Production'.\")\n",
    "\n",
    "                # Transition from Staging to Production\n",
    "                client.transition_model_version_stage(\n",
    "                    name=model_name,\n",
    "                    version=registered_model_production.version,\n",
    "                    stage=\"Production\"\n",
    "            )\n",
    "                \n",
    "                print(f\"Model '{model_name}', version {registered_model.version} transitioned to 'Production' stage because accuracy is greater than {ACCURACY_THRESHOLD}.\")\n",
    "            else:\n",
    "                print(f\"Model '{model_name}', version {registered_model.version} did not meet accuracy threshold and remains in 'Staging'.\")\n",
    "        \n",
    "        except Exception as e:\n",
    "            print(f\"Error during stage transition: {e}\")\n",
    "       "
   ]
  },
  {
   "cell_type": "code",
   "execution_count": 12,
   "metadata": {},
   "outputs": [
    {
     "name": "stderr",
     "output_type": "stream",
     "text": [
      "2024/12/21 02:12:01 WARNING mlflow.models.model: Model logged without a signature and input example. Please set `input_example` parameter when logging the model to auto infer the model signature.\n"
     ]
    },
    {
     "name": "stdout",
     "output_type": "stream",
     "text": [
      "model_uri: runs:/59374e9336cb46e8b1677e2f0bb68caf/model\n"
     ]
    },
    {
     "name": "stderr",
     "output_type": "stream",
     "text": [
      "Successfully registered model 'random forest, iris'.\n",
      "2024/12/21 02:12:05 INFO mlflow.store.model_registry.abstract_store: Waiting up to 300 seconds for model version to finish creation. Model name: random forest, iris, version 1\n",
      "Created version '1' of model 'random forest, iris'.\n",
      "C:\\Users\\Zahra\\AppData\\Local\\Temp\\ipykernel_10364\\2196517583.py:64: FutureWarning: ``mlflow.tracking.client.MlflowClient.transition_model_version_stage`` is deprecated since 2.9.0. Model registry stages will be removed in a future major release. To learn more about the deprecation of model registry stages, see our migration guide here: https://mlflow.org/docs/latest/model-registry.html#migrating-from-stages\n",
      "  client.transition_model_version_stage(\n"
     ]
    },
    {
     "name": "stdout",
     "output_type": "stream",
     "text": [
      "Model 'random forest, iris' registered successfully as version 1.\n",
      "Model 'random forest, iris', version 1 transitioned to 'Staging' stage.\n"
     ]
    },
    {
     "name": "stderr",
     "output_type": "stream",
     "text": [
      "Registered model 'random forest, iris' already exists. Creating a new version of this model...\n",
      "2024/12/21 02:12:06 INFO mlflow.store.model_registry.abstract_store: Waiting up to 300 seconds for model version to finish creation. Model name: random forest, iris, version 2\n",
      "Created version '2' of model 'random forest, iris'.\n",
      "C:\\Users\\Zahra\\AppData\\Local\\Temp\\ipykernel_10364\\2196517583.py:80: FutureWarning: ``mlflow.tracking.client.MlflowClient.transition_model_version_stage`` is deprecated since 2.9.0. Model registry stages will be removed in a future major release. To learn more about the deprecation of model registry stages, see our migration guide here: https://mlflow.org/docs/latest/model-registry.html#migrating-from-stages\n",
      "  client.transition_model_version_stage(\n"
     ]
    },
    {
     "name": "stdout",
     "output_type": "stream",
     "text": [
      "New model version 2 registered for 'Production'.\n",
      "Model 'random forest, iris', version 1 transitioned to 'Production' stage because accuracy is greater than 0.9.\n",
      "🏃 View run thoughtful-rook-838 at: http://127.0.0.1:5000/#/experiments/135740183885560034/runs/59374e9336cb46e8b1677e2f0bb68caf\n",
      "🧪 View experiment at: http://127.0.0.1:5000/#/experiments/135740183885560034\n"
     ]
    }
   ],
   "source": [
    "# Main Execution\n",
    "    \n",
    "if __name__ == \"__main__\":\n",
    "    try:\n",
    "        # Get the configuration for the model\n",
    "        config = get_config()\n",
    "       # Train the model and log the necessary variables\n",
    "        model, accuracy, predictions, y_test, precision, recall, f1 = train_model(config)\n",
    "\n",
    "        # Log the model to MLflow\n",
    "        log_model_mlflow(config, model, accuracy, predictions, y_test, precision, recall, f1)\n",
    "    except Exception as e:\n",
    "        print(f\"An error occurred during the main execution: {e}\")    \n",
    "  "
   ]
  },
  {
   "cell_type": "code",
   "execution_count": 13,
   "metadata": {},
   "outputs": [],
   "source": [
    "\n",
    "# function to compare different model versions\n",
    "def compare_model_versions(model_name):\n",
    "    \"\"\"\n",
    "    Compares different versions of a model registered in the MLflow Model Registry.\n",
    "    \"\"\"\n",
    "    client = MlflowClient()\n",
    "    try:\n",
    "        # Fetch all registered versions of the model\n",
    "        versions = client.get_latest_versions(name=model_name)\n",
    "        print(f\"Model '{model_name}' has the following versions:\")\n",
    "        for version in versions:\n",
    "            print(f\"Version: {version.version}, Stage: {version.current_stage}, Run ID: {version.run_id}\")\n",
    "            \n",
    "            # Fetch metrics and params for each version\n",
    "            run = client.get_run(version.run_id)\n",
    "            metrics = run.data.metrics\n",
    "            params = run.data.params\n",
    "            print(f\"Metrics: {metrics}\")\n",
    "            print(f\"Parameters: {params}\")\n",
    "            print(\"-\" * 50)\n",
    "    except Exception as e:\n",
    "        print(f\"Error while comparing model versions: {e}\")"
   ]
  },
  {
   "cell_type": "code",
   "execution_count": 14,
   "metadata": {},
   "outputs": [
    {
     "name": "stderr",
     "output_type": "stream",
     "text": [
      "C:\\Users\\Zahra\\AppData\\Local\\Temp\\ipykernel_10364\\570866499.py:11: FutureWarning: ``mlflow.tracking.client.MlflowClient.get_latest_versions`` is deprecated since 2.9.0. Model registry stages will be removed in a future major release. To learn more about the deprecation of model registry stages, see our migration guide here: https://mlflow.org/docs/latest/model-registry.html#migrating-from-stages\n",
      "  versions = client.get_latest_versions(name=model_name)\n"
     ]
    },
    {
     "name": "stdout",
     "output_type": "stream",
     "text": [
      "Model 'random forest, iris' has the following versions:\n",
      "Version: 2, Stage: Production, Run ID: 59374e9336cb46e8b1677e2f0bb68caf\n",
      "Metrics: {'accuracy': 1.0, 'f1': 1.0, 'loss': 0.0, 'memory_used_MB': 0.012287999999998078, 'precision': 1.0, 'recall': 1.0, 'runtime': 0.07064414024353027}\n",
      "Parameters: {'batch_size': '32', 'cpu_count': '4', 'cpu_max_frequency_MHz': '2501.0', 'disk_total_GB': '157.29', 'learning_rate': '0.01', 'max_depth': '3', 'n_estimators': '10', 'python_version': '3.11.9', 'system_os': 'Windows', 'system_processor': 'Intel64 Family 6 Model 58 Stepping 9, GenuineIntel', 'system_ram': '4.18 GB'}\n",
      "--------------------------------------------------\n",
      "Version: 1, Stage: Staging, Run ID: 59374e9336cb46e8b1677e2f0bb68caf\n",
      "Metrics: {'accuracy': 1.0, 'f1': 1.0, 'loss': 0.0, 'memory_used_MB': 0.012287999999998078, 'precision': 1.0, 'recall': 1.0, 'runtime': 0.07064414024353027}\n",
      "Parameters: {'batch_size': '32', 'cpu_count': '4', 'cpu_max_frequency_MHz': '2501.0', 'disk_total_GB': '157.29', 'learning_rate': '0.01', 'max_depth': '3', 'n_estimators': '10', 'python_version': '3.11.9', 'system_os': 'Windows', 'system_processor': 'Intel64 Family 6 Model 58 Stepping 9, GenuineIntel', 'system_ram': '4.18 GB'}\n",
      "--------------------------------------------------\n"
     ]
    }
   ],
   "source": [
    "\n",
    "model_name = \"random forest, iris\"  # Set the name of the model\n",
    "compare_model_versions(model_name)   # Compare different versions of the model"
   ]
  },
  {
   "cell_type": "code",
   "execution_count": 6,
   "metadata": {},
   "outputs": [],
   "source": [
    "#optional\n",
    "\n",
    "# Function to delete an entire registered model and all its versions\n",
    "def delete_registered_model(model_name):\n",
    "    try:\n",
    "        client = MlflowClient()\n",
    "        print(f\"Deleting registered model '{model_name}' and all its versions...\")\n",
    "        \n",
    "        # Delete all versions of the model\n",
    "        versions = client.get_latest_versions(name=model_name)\n",
    "        for version in versions:\n",
    "            client.delete_model_version(name=model_name, version=version.version)\n",
    "        \n",
    "        # Delete the registered model\n",
    "        client.delete_registered_model(name=model_name)\n",
    "        print(f\"Registered model '{model_name}' deleted successfully.\")\n",
    "    except Exception as e:\n",
    "        print(f\"An error occurred while deleting registered model '{model_name}': {e}\")\n"
   ]
  },
  {
   "cell_type": "code",
   "execution_count": 7,
   "metadata": {},
   "outputs": [
    {
     "name": "stdout",
     "output_type": "stream",
     "text": [
      "Deleting registered model 'random forest, iris' and all its versions...\n"
     ]
    },
    {
     "name": "stderr",
     "output_type": "stream",
     "text": [
      "C:\\Users\\Zahra\\AppData\\Local\\Temp\\ipykernel_10364\\3968451189.py:10: FutureWarning: ``mlflow.tracking.client.MlflowClient.get_latest_versions`` is deprecated since 2.9.0. Model registry stages will be removed in a future major release. To learn more about the deprecation of model registry stages, see our migration guide here: https://mlflow.org/docs/latest/model-registry.html#migrating-from-stages\n",
      "  versions = client.get_latest_versions(name=model_name)\n"
     ]
    },
    {
     "name": "stdout",
     "output_type": "stream",
     "text": [
      "Registered model 'random forest, iris' deleted successfully.\n"
     ]
    }
   ],
   "source": [
    "#optional\n",
    "# Completely delete the model and all its versions\n",
    "model_name = \"random forest, iris\"   # Set the name of the model\n",
    "delete_registered_model(model_name) # Delete the registered model and all versions"
   ]
  },
  {
   "cell_type": "code",
   "execution_count": 25,
   "metadata": {},
   "outputs": [],
   "source": [
    "# optional\n",
    "\n",
    "#Delete specific version of a model\n",
    "\n",
    "# Function to delete a specific version of a model\n",
    "def delete_model_version(model_name, version):\n",
    "    try:\n",
    "        client = MlflowClient()\n",
    "        print(f\"Deleting version {version} of model '{model_name}'...\")\n",
    "        client.delete_model_version(name=model_name, version=version)\n",
    "        print(f\"Version {version} of model '{model_name}' deleted successfully.\")\n",
    "    except Exception as e:\n",
    "        print(f\"An error occurred while deleting version {version} of model '{model_name}': {e}\")"
   ]
  },
  {
   "cell_type": "code",
   "execution_count": 27,
   "metadata": {},
   "outputs": [
    {
     "name": "stdout",
     "output_type": "stream",
     "text": [
      "Deleting version 2 of model 'random forest, iris'...\n",
      "Version 2 of model 'random forest, iris' deleted successfully.\n"
     ]
    }
   ],
   "source": [
    "#optional\n",
    "# Delete a specific version of a model\n",
    "model_name = \"random forest, iris\"  # Set the name of the model\n",
    "version_to_delete = 2  # The version of the model you want to delete\n",
    "delete_model_version(model_name, version_to_delete)"
   ]
  }
 ],
 "metadata": {
  "kernelspec": {
   "display_name": "Python 3",
   "language": "python",
   "name": "python3"
  },
  "language_info": {
   "codemirror_mode": {
    "name": "ipython",
    "version": 3
   },
   "file_extension": ".py",
   "mimetype": "text/x-python",
   "name": "python",
   "nbconvert_exporter": "python",
   "pygments_lexer": "ipython3",
   "version": "3.11.9"
  }
 },
 "nbformat": 4,
 "nbformat_minor": 2
}
